{
 "cells": [
  {
   "cell_type": "markdown",
   "metadata": {},
   "source": [
    "# Sentiment Analysis on IMDb Reviews"
   ]
  },
  {
   "cell_type": "code",
   "execution_count": 1,
   "metadata": {
    "ExecuteTime": {
     "end_time": "2018-03-23T10:36:23.076550Z",
     "start_time": "2018-03-23T10:36:23.073566Z"
    },
    "collapsed": true
   },
   "outputs": [],
   "source": [
    "from __future__ import print_function, division"
   ]
  },
  {
   "cell_type": "markdown",
   "metadata": {},
   "source": [
    "Download and extract the IMDB sentiment dataset:\n",
    "    \n",
    "    wget http://ai.stanford.edu/~amaas/data/sentiment/aclImdb_v1.tar.gz\n",
    "    tar xfz aclImdb_v1.tar.gz"
   ]
  },
  {
   "cell_type": "markdown",
   "metadata": {},
   "source": [
    "First, we pre-process the dataset, converting each review to a sequence of word index numbers."
   ]
  },
  {
   "cell_type": "code",
   "execution_count": 2,
   "metadata": {
    "ExecuteTime": {
     "end_time": "2018-03-23T10:36:24.931624Z",
     "start_time": "2018-03-23T10:36:24.888911Z"
    }
   },
   "outputs": [
    {
     "name": "stdout",
     "output_type": "stream",
     "text": [
      "5000 words in vocabulary\n"
     ]
    }
   ],
   "source": [
    "# Vocabulary: All words used, starting by the most frequent\n",
    "with open('aclImdb/imdb.vocab') as f:\n",
    "    vocab = [word.rstrip() for word in f]\n",
    "    # Keep only most frequent 5000 words rather than all 90000\n",
    "    # Just saving memory - the long tail occurs too few times\n",
    "    # for the model to learn anything anyway\n",
    "    vocab = vocab[:5000]\n",
    "    print('%d words in vocabulary' % (len(vocab),))"
   ]
  },
  {
   "cell_type": "code",
   "execution_count": 3,
   "metadata": {
    "ExecuteTime": {
     "end_time": "2018-03-23T10:36:25.538371Z",
     "start_time": "2018-03-23T10:36:25.532748Z"
    },
    "collapsed": true
   },
   "outputs": [],
   "source": [
    "import re\n",
    "\n",
    "def text_tokens(text):\n",
    "    text = text.lower()\n",
    "    text = re.sub(\"\\\\s\", \" \", text)\n",
    "    text = re.sub(\"[^a-zA-Z' ]\", \"\", text)\n",
    "    tokens = text.split(' ')\n",
    "    return tokens"
   ]
  },
  {
   "cell_type": "code",
   "execution_count": 4,
   "metadata": {
    "ExecuteTime": {
     "end_time": "2018-03-23T10:36:26.708091Z",
     "start_time": "2018-03-23T10:36:26.694084Z"
    },
    "collapsed": true
   },
   "outputs": [],
   "source": [
    "import os\n",
    "\n",
    "def load_dataset(dirname):\n",
    "    X, y = [], []\n",
    "    # Review files: neg/0_3.txt neg/10000_4.txt neg/10001_4.txt ...\n",
    "    for y_val, y_label in enumerate(['neg', 'pos']):\n",
    "        y_dir = os.path.join(dirname, y_label)\n",
    "        for fname in os.listdir(y_dir):\n",
    "            fpath = os.path.join(y_dir, fname)\n",
    "            # print('\\r' + fpath + '   ', end='')\n",
    "            with open(fpath) as f:\n",
    "                tokens = text_tokens(f.read())\n",
    "            X.append(tokens)\n",
    "            y.append(y_val)  # 0 for 'neg', 1 for 'pos'\n",
    "    print()\n",
    "    return X, y"
   ]
  },
  {
   "cell_type": "code",
   "execution_count": 5,
   "metadata": {
    "ExecuteTime": {
     "end_time": "2018-03-23T10:36:46.993300Z",
     "start_time": "2018-03-23T10:36:27.316246Z"
    },
    "scrolled": true
   },
   "outputs": [
    {
     "name": "stdout",
     "output_type": "stream",
     "text": [
      "\n",
      "\n"
     ]
    }
   ],
   "source": [
    "X_train, y_train = load_dataset('aclImdb/train/')\n",
    "\n",
    "# We are cheating here - this is a test set, not a validation set.\n",
    "# This is just to make results quickly comparable to outside results\n",
    "# during the tutorial, but you should normally never use the test set\n",
    "# during training, of course!\n",
    "X_val, y_val = load_dataset('aclImdb/test/')"
   ]
  },
  {
   "cell_type": "code",
   "execution_count": 6,
   "metadata": {
    "ExecuteTime": {
     "end_time": "2018-03-23T10:36:50.669978Z",
     "start_time": "2018-03-23T10:36:50.658301Z"
    }
   },
   "outputs": [
    {
     "data": {
      "text/plain": [
       "(25000, 25000)"
      ]
     },
     "execution_count": 6,
     "metadata": {},
     "output_type": "execute_result"
    }
   ],
   "source": [
    "len(X_train), len(X_val)"
   ]
  },
  {
   "cell_type": "markdown",
   "metadata": {},
   "source": [
    "## Bag-of-words Linear Model"
   ]
  },
  {
   "cell_type": "code",
   "execution_count": 7,
   "metadata": {
    "ExecuteTime": {
     "end_time": "2018-03-23T10:37:25.651259Z",
     "start_time": "2018-03-23T10:37:25.645443Z"
    },
    "collapsed": true
   },
   "outputs": [],
   "source": [
    "def bow_onehot_vector(tokens):\n",
    "    vector = [0] * len(vocab)\n",
    "    for t in tokens:\n",
    "        try:\n",
    "            vector[vocab.index(t)] = 1\n",
    "        except:\n",
    "            pass  # ignore missing words\n",
    "    return vector"
   ]
  },
  {
   "cell_type": "code",
   "execution_count": 11,
   "metadata": {
    "ExecuteTime": {
     "end_time": "2018-03-23T10:44:30.084063Z",
     "start_time": "2018-03-23T10:40:51.409036Z"
    }
   },
   "outputs": [
    {
     "name": "stderr",
     "output_type": "stream",
     "text": [
      "100%|██████████| 25000/25000 [01:46<00:00, 234.24it/s]\n",
      "100%|██████████| 25000/25000 [01:51<00:00, 223.34it/s]\n"
     ]
    }
   ],
   "source": [
    "from tqdm import tqdm\n",
    "X_bow_train = []\n",
    "X_bow_val = []\n",
    "for x in tqdm(X_train):\n",
    "    X_bow_train += [bow_onehot_vector(x)]\n",
    "for x in tqdm(X_val):\n",
    "    X_bow_val += [bow_onehot_vector(x)]"
   ]
  },
  {
   "cell_type": "code",
   "execution_count": 8,
   "metadata": {
    "ExecuteTime": {
     "end_time": "2018-03-23T10:32:39.744148Z",
     "start_time": "2018-03-23T10:32:39.738515Z"
    },
    "collapsed": true
   },
   "outputs": [],
   "source": [
    "def best_train_history(history):\n",
    "    best_epoch = np.argmax(history.history['val_acc'])\n",
    "    print('Accuracy (epoch %d): %.4f train, %.4f val' % \\\n",
    "          (best_epoch + 1, history.history['acc'][best_epoch], history.history['val_acc'][best_epoch]))\n",
    "# (Note that sentiment.model is the state after the last epoch rather than best epoch!\n",
    "# Use ModelCheckpointer to restore the best epoch.)"
   ]
  },
  {
   "cell_type": "code",
   "execution_count": 10,
   "metadata": {
    "ExecuteTime": {
     "end_time": "2018-03-23T09:04:20.496172Z",
     "start_time": "2018-03-23T09:03:26.319276Z"
    },
    "scrolled": true
   },
   "outputs": [
    {
     "name": "stderr",
     "output_type": "stream",
     "text": [
      "/Users/aloosley/anaconda2/envs/py3/lib/python3.6/site-packages/h5py/__init__.py:34: FutureWarning: Conversion of the second argument of issubdtype from `float` to `np.floating` is deprecated. In future, it will be treated as `np.float64 == np.dtype(float).type`.\n",
      "  from ._conv import register_converters as _register_converters\n",
      "Using TensorFlow backend.\n"
     ]
    },
    {
     "name": "stdout",
     "output_type": "stream",
     "text": [
      "_________________________________________________________________\n",
      "Layer (type)                 Output Shape              Param #   \n",
      "=================================================================\n",
      "bow_input (InputLayer)       (None, 5000)              0         \n",
      "_________________________________________________________________\n",
      "dense_1 (Dense)              (None, 1)                 5001      \n",
      "_________________________________________________________________\n",
      "activation_1 (Activation)    (None, 1)                 0         \n",
      "=================================================================\n",
      "Total params: 5,001\n",
      "Trainable params: 5,001\n",
      "Non-trainable params: 0\n",
      "_________________________________________________________________\n",
      "Fitting...\n",
      "Train on 25000 samples, validate on 25000 samples\n",
      "Epoch 1/10\n",
      "25000/25000 [==============================] - 5s 193us/step - loss: 0.4530 - acc: 0.8339 - val_loss: 0.3632 - val_acc: 0.8710\n",
      "Epoch 2/10\n",
      "25000/25000 [==============================] - 3s 137us/step - loss: 0.3144 - acc: 0.8869 - val_loss: 0.3182 - val_acc: 0.8787\n",
      "Epoch 3/10\n",
      "25000/25000 [==============================] - 3s 114us/step - loss: 0.2734 - acc: 0.9006 - val_loss: 0.3013 - val_acc: 0.8816\n",
      "Epoch 4/10\n",
      "25000/25000 [==============================] - 2s 98us/step - loss: 0.2507 - acc: 0.9082 - val_loss: 0.2934 - val_acc: 0.8822\n",
      "Epoch 5/10\n",
      "25000/25000 [==============================] - 3s 118us/step - loss: 0.2351 - acc: 0.9141 - val_loss: 0.2917 - val_acc: 0.8819\n",
      "Epoch 6/10\n",
      "25000/25000 [==============================] - 3s 118us/step - loss: 0.2235 - acc: 0.9178 - val_loss: 0.2909 - val_acc: 0.8816\n",
      "Epoch 7/10\n",
      "25000/25000 [==============================] - 3s 115us/step - loss: 0.2143 - acc: 0.9214 - val_loss: 0.2934 - val_acc: 0.8789\n",
      "Epoch 8/10\n",
      "25000/25000 [==============================] - 3s 106us/step - loss: 0.2072 - acc: 0.9248 - val_loss: 0.2947 - val_acc: 0.8787\n",
      "Epoch 9/10\n",
      "25000/25000 [==============================] - 3s 132us/step - loss: 0.2010 - acc: 0.9264 - val_loss: 0.2982 - val_acc: 0.8772\n",
      "Epoch 10/10\n",
      "25000/25000 [==============================] - 3s 137us/step - loss: 0.1955 - acc: 0.9282 - val_loss: 0.3007 - val_acc: 0.8772\n",
      "Accuracy (epoch 4): 0.9082 train, 0.8822 val\n"
     ]
    }
   ],
   "source": [
    "from keras.layers import Activation, Dense, Input\n",
    "from keras.models import Model\n",
    "import numpy as np\n",
    "\n",
    "class BOWSentimentModel(object):\n",
    "    def __init__(self):\n",
    "        bow = Input(shape=(len(vocab),), name='bow_input')\n",
    "        # weights of all inputs\n",
    "        sentiment = Dense(1)(bow)\n",
    "        # normalize to [0, 1] range\n",
    "        sentiment = Activation('sigmoid')(sentiment)\n",
    "\n",
    "        self.model = Model(inputs=[bow], outputs=[sentiment])\n",
    "        self.model.summary()\n",
    "        self.model.compile(optimizer='adam', loss='binary_crossentropy', metrics=['accuracy'])\n",
    "\n",
    "    def train(self, X, y, X_val, y_val):\n",
    "        print('Fitting...')\n",
    "        return self.model.fit(np.array(X), y, validation_data=(np.array(X_val), y_val), epochs=10, verbose=1)\n",
    "\n",
    "    def predict(self, X):\n",
    "        return self.model.predict(np.array(X))\n",
    "    \n",
    "sentiment = BOWSentimentModel()\n",
    "history = sentiment.train(X_bow_train, y_train, X_bow_val, y_val)\n",
    "best_train_history(history)"
   ]
  },
  {
   "cell_type": "code",
   "execution_count": 26,
   "metadata": {
    "ExecuteTime": {
     "end_time": "2018-03-23T09:13:55.779192Z",
     "start_time": "2018-03-23T09:13:55.766839Z"
    }
   },
   "outputs": [
    {
     "name": "stdout",
     "output_type": "stream",
     "text": [
      "What a great movie, just great!!! psych!. [0.86243796]\n"
     ]
    }
   ],
   "source": [
    "test_text = 'Good story about a backwoods community in the Ozarks around the turn of the century. Moonshine is the leading industry, fighting and funning the major form of entertainment. One day a stranger enters the community and causes a shake-up among the locals. Beautiful scenery adds much to the story.'\n",
    "test_text = 'What a great movie, just great!!! psych!.'\n",
    "test_tokens = text_tokens(test_text)\n",
    "print(test_text, sentiment.predict([bow_onehot_vector(test_tokens)])[0])"
   ]
  },
  {
   "cell_type": "code",
   "execution_count": 12,
   "metadata": {
    "ExecuteTime": {
     "end_time": "2018-03-23T09:05:26.394043Z",
     "start_time": "2018-03-23T09:05:24.109327Z"
    },
    "collapsed": true
   },
   "outputs": [],
   "source": [
    "import matplotlib.pyplot as plt\n",
    "def plot_train_history(history):\n",
    "    plt.figure()\n",
    "    plt.plot(history.history['acc'])\n",
    "    plt.plot(history.history['val_acc'])\n",
    "    plt.xlabel('epoch')\n",
    "    plt.ylabel('accuracy')\n",
    "    plt.legend(['acc', 'val_acc'])\n",
    "    plt.show()"
   ]
  },
  {
   "cell_type": "code",
   "execution_count": 13,
   "metadata": {
    "ExecuteTime": {
     "end_time": "2018-03-23T09:05:28.231256Z",
     "start_time": "2018-03-23T09:05:28.029457Z"
    }
   },
   "outputs": [
    {
     "data": {
      "image/png": "[encoded data removed]",
      "text/plain": [
       "<matplotlib.figure.Figure at 0x1b78f9208>"
      ]
     },
     "metadata": {},
     "output_type": "display_data"
    }
   ],
   "source": [
    "plot_train_history(history)"
   ]
  },
  {
   "cell_type": "markdown",
   "metadata": {},
   "source": [
    "### Bag-of-Words with Hidden Layer"
   ]
  },
  {
   "cell_type": "code",
   "execution_count": 12,
   "metadata": {
    "ExecuteTime": {
     "end_time": "2018-03-23T11:00:10.643623Z",
     "start_time": "2018-03-23T10:58:20.865278Z"
    },
    "scrolled": true
   },
   "outputs": [
    {
     "name": "stderr",
     "output_type": "stream",
     "text": [
      "/Users/aloosley/anaconda2/envs/py3/lib/python3.6/site-packages/h5py/__init__.py:34: FutureWarning: Conversion of the second argument of issubdtype from `float` to `np.floating` is deprecated. In future, it will be treated as `np.float64 == np.dtype(float).type`.\n",
      "  from ._conv import register_converters as _register_converters\n",
      "Using TensorFlow backend.\n"
     ]
    },
    {
     "name": "stdout",
     "output_type": "stream",
     "text": [
      "_________________________________________________________________\n",
      "Layer (type)                 Output Shape              Param #   \n",
      "=================================================================\n",
      "bow_input (InputLayer)       (None, 5000)              0         \n",
      "_________________________________________________________________\n",
      "dense_1 (Dense)              (None, 64)                320064    \n",
      "_________________________________________________________________\n",
      "dense_2 (Dense)              (None, 1)                 65        \n",
      "=================================================================\n",
      "Total params: 320,129\n",
      "Trainable params: 320,129\n",
      "Non-trainable params: 0\n",
      "_________________________________________________________________\n",
      "Fitting...\n",
      "Train on 25000 samples, validate on 25000 samples\n",
      "Epoch 1/10\n",
      "25000/25000 [==============================] - 10s 409us/step - loss: 0.3304 - acc: 0.8587 - val_loss: 0.2987 - val_acc: 0.8728\n",
      "Epoch 2/10\n",
      "25000/25000 [==============================] - 8s 337us/step - loss: 0.2357 - acc: 0.9034 - val_loss: 0.3137 - val_acc: 0.8686\n",
      "Epoch 3/10\n",
      "25000/25000 [==============================] - 9s 349us/step - loss: 0.2036 - acc: 0.9186 - val_loss: 0.3269 - val_acc: 0.8664\n",
      "Epoch 4/10\n",
      "25000/25000 [==============================] - 9s 347us/step - loss: 0.1770 - acc: 0.9288 - val_loss: 0.3493 - val_acc: 0.8638\n",
      "Epoch 5/10\n",
      "25000/25000 [==============================] - 8s 303us/step - loss: 0.1513 - acc: 0.9392 - val_loss: 0.3704 - val_acc: 0.8610\n",
      "Epoch 6/10\n",
      "25000/25000 [==============================] - 8s 306us/step - loss: 0.1224 - acc: 0.9525 - val_loss: 0.4046 - val_acc: 0.8575\n",
      "Epoch 7/10\n",
      "25000/25000 [==============================] - 9s 360us/step - loss: 0.0908 - acc: 0.9672 - val_loss: 0.4645 - val_acc: 0.8543\n",
      "Epoch 8/10\n",
      "25000/25000 [==============================] - 9s 345us/step - loss: 0.0628 - acc: 0.9817 - val_loss: 0.5107 - val_acc: 0.8531\n",
      "Epoch 9/10\n",
      "25000/25000 [==============================] - 9s 348us/step - loss: 0.0397 - acc: 0.9909 - val_loss: 0.5715 - val_acc: 0.8518\n",
      "Epoch 10/10\n",
      "25000/25000 [==============================] - 11s 428us/step - loss: 0.0234 - acc: 0.9955 - val_loss: 0.6369 - val_acc: 0.8506\n"
     ]
    },
    {
     "ename": "NameError",
     "evalue": "name 'best_train_history' is not defined",
     "output_type": "error",
     "traceback": [
      "\u001b[0;31m---------------------------------------------------------------------------\u001b[0m",
      "\u001b[0;31mNameError\u001b[0m                                 Traceback (most recent call last)",
      "\u001b[0;32m<ipython-input-12-89a21b93ce8d>\u001b[0m in \u001b[0;36m<module>\u001b[0;34m()\u001b[0m\n\u001b[1;32m     22\u001b[0m \u001b[0msentiment\u001b[0m \u001b[0;34m=\u001b[0m \u001b[0mBOWHiddenSentimentModel\u001b[0m\u001b[0;34m(\u001b[0m\u001b[0;34m)\u001b[0m\u001b[0;34m\u001b[0m\u001b[0m\n\u001b[1;32m     23\u001b[0m \u001b[0mhistory\u001b[0m \u001b[0;34m=\u001b[0m \u001b[0msentiment\u001b[0m\u001b[0;34m.\u001b[0m\u001b[0mtrain\u001b[0m\u001b[0;34m(\u001b[0m\u001b[0mX_bow_train\u001b[0m\u001b[0;34m,\u001b[0m \u001b[0my_train\u001b[0m\u001b[0;34m,\u001b[0m \u001b[0mX_bow_val\u001b[0m\u001b[0;34m,\u001b[0m \u001b[0my_val\u001b[0m\u001b[0;34m)\u001b[0m\u001b[0;34m\u001b[0m\u001b[0m\n\u001b[0;32m---> 24\u001b[0;31m \u001b[0mbest_train_history\u001b[0m\u001b[0;34m(\u001b[0m\u001b[0mhistory\u001b[0m\u001b[0;34m)\u001b[0m\u001b[0;34m\u001b[0m\u001b[0m\n\u001b[0m",
      "\u001b[0;31mNameError\u001b[0m: name 'best_train_history' is not defined"
     ]
    }
   ],
   "source": [
    "from keras.layers import Activation, Dense, Input\n",
    "from keras.models import Model\n",
    "import numpy as np\n",
    "\n",
    "class BOWHiddenSentimentModel(object):\n",
    "    def __init__(self, N=64):\n",
    "        bow = Input(shape=(len(vocab),), name='bow_input')\n",
    "        hidden = Dense(N, activation='tanh')(bow)\n",
    "        sentiment = Dense(1, activation='sigmoid')(hidden)\n",
    "\n",
    "        self.model = Model(inputs=[bow], outputs=[sentiment])\n",
    "        self.model.summary()\n",
    "        self.model.compile(optimizer='adam', loss='binary_crossentropy', metrics=['accuracy'])\n",
    "\n",
    "    def train(self, X, y, X_val, y_val):\n",
    "        print('Fitting...')\n",
    "        return self.model.fit(np.array(X), y, validation_data=(np.array(X_val), y_val), epochs=10, verbose=1)\n",
    "\n",
    "    def predict(self, X):\n",
    "        return self.model.predict(np.array(X))\n",
    "    \n",
    "sentiment = BOWHiddenSentimentModel()\n",
    "history = sentiment.train(X_bow_train, y_train, X_bow_val, y_val)\n",
    "best_train_history(history)"
   ]
  },
  {
   "cell_type": "code",
   "execution_count": 15,
   "metadata": {
    "ExecuteTime": {
     "end_time": "2018-03-23T09:08:09.929012Z",
     "start_time": "2018-03-23T09:08:09.662182Z"
    }
   },
   "outputs": [
    {
     "data": {
      "image/png": "[encoded data removed]",
      "text/plain": [
       "<matplotlib.figure.Figure at 0x1b78f9898>"
      ]
     },
     "metadata": {},
     "output_type": "display_data"
    }
   ],
   "source": [
    "plot_train_history(history)"
   ]
  },
  {
   "cell_type": "markdown",
   "metadata": {},
   "source": [
    "Overfitting!  Ideas:\n",
    "  * Apply dropout\n",
    "  * L2-regularize the weights of the hidden layer\n",
    "  * Different N values?\n",
    "  * Multiple hidden layers, with different activation?\n",
    "  * tf-idf !\n",
    "  \n",
    "Can anyone fix the bag-of-words model?"
   ]
  },
  {
   "cell_type": "code",
   "execution_count": 32,
   "metadata": {
    "ExecuteTime": {
     "end_time": "2018-03-23T09:43:21.851492Z",
     "start_time": "2018-03-23T09:42:35.458576Z"
    },
    "scrolled": true
   },
   "outputs": [
    {
     "name": "stdout",
     "output_type": "stream",
     "text": [
      "_________________________________________________________________\n",
      "Layer (type)                 Output Shape              Param #   \n",
      "=================================================================\n",
      "bow_input (InputLayer)       (None, 5000)              0         \n",
      "_________________________________________________________________\n",
      "dense_10 (Dense)             (None, 128)               640128    \n",
      "_________________________________________________________________\n",
      "dropout_3 (Dropout)          (None, 128)               0         \n",
      "_________________________________________________________________\n",
      "dense_11 (Dense)             (None, 1)                 129       \n",
      "=================================================================\n",
      "Total params: 640,257\n",
      "Trainable params: 640,257\n",
      "Non-trainable params: 0\n",
      "_________________________________________________________________\n",
      "Fitting...\n",
      "Train on 25000 samples, validate on 25000 samples\n",
      "Epoch 1/10\n",
      "25000/25000 [==============================] - 18s 717us/step - loss: 0.4867 - acc: 0.8465 - val_loss: 0.4468 - val_acc: 0.8713\n",
      "Epoch 2/10\n",
      "12288/25000 [=============>................] - ETA: 8s - loss: 0.4280 - acc: 0.8824"
     ]
    },
    {
     "ename": "KeyboardInterrupt",
     "evalue": "",
     "output_type": "error",
     "traceback": [
      "\u001b[0;31m---------------------------------------------------------------------------\u001b[0m",
      "\u001b[0;31mKeyboardInterrupt\u001b[0m                         Traceback (most recent call last)",
      "\u001b[0;32m<ipython-input-32-bb442c91c494>\u001b[0m in \u001b[0;36m<module>\u001b[0;34m()\u001b[0m\n\u001b[1;32m     22\u001b[0m \u001b[0;34m\u001b[0m\u001b[0m\n\u001b[1;32m     23\u001b[0m \u001b[0msentiment\u001b[0m \u001b[0;34m=\u001b[0m \u001b[0mBOWHiddenRegularizedSentimentModel\u001b[0m\u001b[0;34m(\u001b[0m\u001b[0;34m)\u001b[0m\u001b[0;34m\u001b[0m\u001b[0m\n\u001b[0;32m---> 24\u001b[0;31m \u001b[0mhistory\u001b[0m \u001b[0;34m=\u001b[0m \u001b[0msentiment\u001b[0m\u001b[0;34m.\u001b[0m\u001b[0mtrain\u001b[0m\u001b[0;34m(\u001b[0m\u001b[0mX_bow_train\u001b[0m\u001b[0;34m,\u001b[0m \u001b[0my_train\u001b[0m\u001b[0;34m,\u001b[0m \u001b[0mX_bow_val\u001b[0m\u001b[0;34m,\u001b[0m \u001b[0my_val\u001b[0m\u001b[0;34m)\u001b[0m\u001b[0;34m\u001b[0m\u001b[0m\n\u001b[0m\u001b[1;32m     25\u001b[0m \u001b[0mbest_train_history\u001b[0m\u001b[0;34m(\u001b[0m\u001b[0mhistory\u001b[0m\u001b[0;34m)\u001b[0m\u001b[0;34m\u001b[0m\u001b[0m\n",
      "\u001b[0;32m<ipython-input-32-bb442c91c494>\u001b[0m in \u001b[0;36mtrain\u001b[0;34m(self, X, y, X_val, y_val)\u001b[0m\n\u001b[1;32m     16\u001b[0m     \u001b[0;32mdef\u001b[0m \u001b[0mtrain\u001b[0m\u001b[0;34m(\u001b[0m\u001b[0mself\u001b[0m\u001b[0;34m,\u001b[0m \u001b[0mX\u001b[0m\u001b[0;34m,\u001b[0m \u001b[0my\u001b[0m\u001b[0;34m,\u001b[0m \u001b[0mX_val\u001b[0m\u001b[0;34m,\u001b[0m \u001b[0my_val\u001b[0m\u001b[0;34m)\u001b[0m\u001b[0;34m:\u001b[0m\u001b[0;34m\u001b[0m\u001b[0m\n\u001b[1;32m     17\u001b[0m         \u001b[0mprint\u001b[0m\u001b[0;34m(\u001b[0m\u001b[0;34m'Fitting...'\u001b[0m\u001b[0;34m)\u001b[0m\u001b[0;34m\u001b[0m\u001b[0m\n\u001b[0;32m---> 18\u001b[0;31m         \u001b[0;32mreturn\u001b[0m \u001b[0mself\u001b[0m\u001b[0;34m.\u001b[0m\u001b[0mmodel\u001b[0m\u001b[0;34m.\u001b[0m\u001b[0mfit\u001b[0m\u001b[0;34m(\u001b[0m\u001b[0mnp\u001b[0m\u001b[0;34m.\u001b[0m\u001b[0marray\u001b[0m\u001b[0;34m(\u001b[0m\u001b[0mX\u001b[0m\u001b[0;34m)\u001b[0m\u001b[0;34m,\u001b[0m \u001b[0my\u001b[0m\u001b[0;34m,\u001b[0m \u001b[0mvalidation_data\u001b[0m\u001b[0;34m=\u001b[0m\u001b[0;34m(\u001b[0m\u001b[0mnp\u001b[0m\u001b[0;34m.\u001b[0m\u001b[0marray\u001b[0m\u001b[0;34m(\u001b[0m\u001b[0mX_val\u001b[0m\u001b[0;34m)\u001b[0m\u001b[0;34m,\u001b[0m \u001b[0my_val\u001b[0m\u001b[0;34m)\u001b[0m\u001b[0;34m,\u001b[0m \u001b[0mepochs\u001b[0m\u001b[0;34m=\u001b[0m\u001b[0;36m10\u001b[0m\u001b[0;34m,\u001b[0m \u001b[0mverbose\u001b[0m\u001b[0;34m=\u001b[0m\u001b[0;36m1\u001b[0m\u001b[0;34m)\u001b[0m\u001b[0;34m\u001b[0m\u001b[0m\n\u001b[0m\u001b[1;32m     19\u001b[0m \u001b[0;34m\u001b[0m\u001b[0m\n\u001b[1;32m     20\u001b[0m     \u001b[0;32mdef\u001b[0m \u001b[0mpredict\u001b[0m\u001b[0;34m(\u001b[0m\u001b[0mself\u001b[0m\u001b[0;34m,\u001b[0m \u001b[0mX\u001b[0m\u001b[0;34m)\u001b[0m\u001b[0;34m:\u001b[0m\u001b[0;34m\u001b[0m\u001b[0m\n",
      "\u001b[0;32m~/anaconda2/envs/py3/lib/python3.6/site-packages/keras/engine/training.py\u001b[0m in \u001b[0;36mfit\u001b[0;34m(self, x, y, batch_size, epochs, verbose, callbacks, validation_split, validation_data, shuffle, class_weight, sample_weight, initial_epoch, steps_per_epoch, validation_steps, **kwargs)\u001b[0m\n\u001b[1;32m   1703\u001b[0m                               \u001b[0minitial_epoch\u001b[0m\u001b[0;34m=\u001b[0m\u001b[0minitial_epoch\u001b[0m\u001b[0;34m,\u001b[0m\u001b[0;34m\u001b[0m\u001b[0m\n\u001b[1;32m   1704\u001b[0m                               \u001b[0msteps_per_epoch\u001b[0m\u001b[0;34m=\u001b[0m\u001b[0msteps_per_epoch\u001b[0m\u001b[0;34m,\u001b[0m\u001b[0;34m\u001b[0m\u001b[0m\n\u001b[0;32m-> 1705\u001b[0;31m                               validation_steps=validation_steps)\n\u001b[0m\u001b[1;32m   1706\u001b[0m \u001b[0;34m\u001b[0m\u001b[0m\n\u001b[1;32m   1707\u001b[0m     def evaluate(self, x=None, y=None,\n",
      "\u001b[0;32m~/anaconda2/envs/py3/lib/python3.6/site-packages/keras/engine/training.py\u001b[0m in \u001b[0;36m_fit_loop\u001b[0;34m(self, f, ins, out_labels, batch_size, epochs, verbose, callbacks, val_f, val_ins, shuffle, callback_metrics, initial_epoch, steps_per_epoch, validation_steps)\u001b[0m\n\u001b[1;32m   1219\u001b[0m                         \u001b[0;32mif\u001b[0m \u001b[0misinstance\u001b[0m\u001b[0;34m(\u001b[0m\u001b[0mins\u001b[0m\u001b[0;34m[\u001b[0m\u001b[0;34m-\u001b[0m\u001b[0;36m1\u001b[0m\u001b[0;34m]\u001b[0m\u001b[0;34m,\u001b[0m \u001b[0mfloat\u001b[0m\u001b[0;34m)\u001b[0m\u001b[0;34m:\u001b[0m\u001b[0;34m\u001b[0m\u001b[0m\n\u001b[1;32m   1220\u001b[0m                             \u001b[0;31m# Do not slice the training phase flag.\u001b[0m\u001b[0;34m\u001b[0m\u001b[0;34m\u001b[0m\u001b[0m\n\u001b[0;32m-> 1221\u001b[0;31m                             \u001b[0mins_batch\u001b[0m \u001b[0;34m=\u001b[0m \u001b[0m_slice_arrays\u001b[0m\u001b[0;34m(\u001b[0m\u001b[0mins\u001b[0m\u001b[0;34m[\u001b[0m\u001b[0;34m:\u001b[0m\u001b[0;34m-\u001b[0m\u001b[0;36m1\u001b[0m\u001b[0;34m]\u001b[0m\u001b[0;34m,\u001b[0m \u001b[0mbatch_ids\u001b[0m\u001b[0;34m)\u001b[0m \u001b[0;34m+\u001b[0m \u001b[0;34m[\u001b[0m\u001b[0mins\u001b[0m\u001b[0;34m[\u001b[0m\u001b[0;34m-\u001b[0m\u001b[0;36m1\u001b[0m\u001b[0;34m]\u001b[0m\u001b[0;34m]\u001b[0m\u001b[0;34m\u001b[0m\u001b[0m\n\u001b[0m\u001b[1;32m   1222\u001b[0m                         \u001b[0;32melse\u001b[0m\u001b[0;34m:\u001b[0m\u001b[0;34m\u001b[0m\u001b[0m\n\u001b[1;32m   1223\u001b[0m                             \u001b[0mins_batch\u001b[0m \u001b[0;34m=\u001b[0m \u001b[0m_slice_arrays\u001b[0m\u001b[0;34m(\u001b[0m\u001b[0mins\u001b[0m\u001b[0;34m,\u001b[0m \u001b[0mbatch_ids\u001b[0m\u001b[0;34m)\u001b[0m\u001b[0;34m\u001b[0m\u001b[0m\n",
      "\u001b[0;32m~/anaconda2/envs/py3/lib/python3.6/site-packages/keras/engine/training.py\u001b[0m in \u001b[0;36m_slice_arrays\u001b[0;34m(arrays, start, stop)\u001b[0m\n\u001b[1;32m    383\u001b[0m             \u001b[0;32mif\u001b[0m \u001b[0mhasattr\u001b[0m\u001b[0;34m(\u001b[0m\u001b[0mstart\u001b[0m\u001b[0;34m,\u001b[0m \u001b[0;34m'shape'\u001b[0m\u001b[0;34m)\u001b[0m\u001b[0;34m:\u001b[0m\u001b[0;34m\u001b[0m\u001b[0m\n\u001b[1;32m    384\u001b[0m                 \u001b[0mstart\u001b[0m \u001b[0;34m=\u001b[0m \u001b[0mstart\u001b[0m\u001b[0;34m.\u001b[0m\u001b[0mtolist\u001b[0m\u001b[0;34m(\u001b[0m\u001b[0;34m)\u001b[0m\u001b[0;34m\u001b[0m\u001b[0m\n\u001b[0;32m--> 385\u001b[0;31m             \u001b[0;32mreturn\u001b[0m \u001b[0;34m[\u001b[0m\u001b[0;32mNone\u001b[0m \u001b[0;32mif\u001b[0m \u001b[0mx\u001b[0m \u001b[0;32mis\u001b[0m \u001b[0;32mNone\u001b[0m \u001b[0;32melse\u001b[0m \u001b[0mx\u001b[0m\u001b[0;34m[\u001b[0m\u001b[0mstart\u001b[0m\u001b[0;34m]\u001b[0m \u001b[0;32mfor\u001b[0m \u001b[0mx\u001b[0m \u001b[0;32min\u001b[0m \u001b[0marrays\u001b[0m\u001b[0;34m]\u001b[0m\u001b[0;34m\u001b[0m\u001b[0m\n\u001b[0m\u001b[1;32m    386\u001b[0m         \u001b[0;32melse\u001b[0m\u001b[0;34m:\u001b[0m\u001b[0;34m\u001b[0m\u001b[0m\n\u001b[1;32m    387\u001b[0m             \u001b[0;32mreturn\u001b[0m \u001b[0;34m[\u001b[0m\u001b[0;32mNone\u001b[0m \u001b[0;32mif\u001b[0m \u001b[0mx\u001b[0m \u001b[0;32mis\u001b[0m \u001b[0;32mNone\u001b[0m \u001b[0;32melse\u001b[0m \u001b[0mx\u001b[0m\u001b[0;34m[\u001b[0m\u001b[0mstart\u001b[0m\u001b[0;34m:\u001b[0m\u001b[0mstop\u001b[0m\u001b[0;34m]\u001b[0m \u001b[0;32mfor\u001b[0m \u001b[0mx\u001b[0m \u001b[0;32min\u001b[0m \u001b[0marrays\u001b[0m\u001b[0;34m]\u001b[0m\u001b[0;34m\u001b[0m\u001b[0m\n",
      "\u001b[0;32m~/anaconda2/envs/py3/lib/python3.6/site-packages/keras/engine/training.py\u001b[0m in \u001b[0;36m<listcomp>\u001b[0;34m(.0)\u001b[0m\n\u001b[1;32m    383\u001b[0m             \u001b[0;32mif\u001b[0m \u001b[0mhasattr\u001b[0m\u001b[0;34m(\u001b[0m\u001b[0mstart\u001b[0m\u001b[0;34m,\u001b[0m \u001b[0;34m'shape'\u001b[0m\u001b[0;34m)\u001b[0m\u001b[0;34m:\u001b[0m\u001b[0;34m\u001b[0m\u001b[0m\n\u001b[1;32m    384\u001b[0m                 \u001b[0mstart\u001b[0m \u001b[0;34m=\u001b[0m \u001b[0mstart\u001b[0m\u001b[0;34m.\u001b[0m\u001b[0mtolist\u001b[0m\u001b[0;34m(\u001b[0m\u001b[0;34m)\u001b[0m\u001b[0;34m\u001b[0m\u001b[0m\n\u001b[0;32m--> 385\u001b[0;31m             \u001b[0;32mreturn\u001b[0m \u001b[0;34m[\u001b[0m\u001b[0;32mNone\u001b[0m \u001b[0;32mif\u001b[0m \u001b[0mx\u001b[0m \u001b[0;32mis\u001b[0m \u001b[0;32mNone\u001b[0m \u001b[0;32melse\u001b[0m \u001b[0mx\u001b[0m\u001b[0;34m[\u001b[0m\u001b[0mstart\u001b[0m\u001b[0;34m]\u001b[0m \u001b[0;32mfor\u001b[0m \u001b[0mx\u001b[0m \u001b[0;32min\u001b[0m \u001b[0marrays\u001b[0m\u001b[0;34m]\u001b[0m\u001b[0;34m\u001b[0m\u001b[0m\n\u001b[0m\u001b[1;32m    386\u001b[0m         \u001b[0;32melse\u001b[0m\u001b[0;34m:\u001b[0m\u001b[0;34m\u001b[0m\u001b[0m\n\u001b[1;32m    387\u001b[0m             \u001b[0;32mreturn\u001b[0m \u001b[0;34m[\u001b[0m\u001b[0;32mNone\u001b[0m \u001b[0;32mif\u001b[0m \u001b[0mx\u001b[0m \u001b[0;32mis\u001b[0m \u001b[0;32mNone\u001b[0m \u001b[0;32melse\u001b[0m \u001b[0mx\u001b[0m\u001b[0;34m[\u001b[0m\u001b[0mstart\u001b[0m\u001b[0;34m:\u001b[0m\u001b[0mstop\u001b[0m\u001b[0;34m]\u001b[0m \u001b[0;32mfor\u001b[0m \u001b[0mx\u001b[0m \u001b[0;32min\u001b[0m \u001b[0marrays\u001b[0m\u001b[0;34m]\u001b[0m\u001b[0;34m\u001b[0m\u001b[0m\n",
      "\u001b[0;31mKeyboardInterrupt\u001b[0m: "
     ]
    }
   ],
   "source": [
    "from keras.layers import Activation, Dense, Dropout, Input\n",
    "from keras.models import Model\n",
    "from keras import regularizers\n",
    "import numpy as np\n",
    "\n",
    "class BOWHiddenRegularizedSentimentModel(object):\n",
    "    def __init__(self, N=128):\n",
    "        bow = Input(shape=(len(vocab),), name='bow_input')\n",
    "        hidden = Dropout(0.5)(Dense(N, activation='relu', kernel_regularizer=regularizers.l2(1e-3))(bow))\n",
    "        sentiment = Dense(1, activation='sigmoid')(hidden)\n",
    "\n",
    "        self.model = Model(inputs=[bow], outputs=[sentiment])\n",
    "        self.model.summary()\n",
    "        self.model.compile(optimizer='adam', loss='binary_crossentropy', metrics=['accuracy'])\n",
    "\n",
    "    def train(self, X, y, X_val, y_val):\n",
    "        print('Fitting...')\n",
    "        return self.model.fit(np.array(X), y, validation_data=(np.array(X_val), y_val), epochs=10, verbose=1)\n",
    "\n",
    "    def predict(self, X):\n",
    "        return self.model.predict(np.array(X))\n",
    "    \n",
    "sentiment = BOWHiddenRegularizedSentimentModel()\n",
    "history = sentiment.train(X_bow_train, y_train, X_bow_val, y_val)\n",
    "best_train_history(history)"
   ]
  },
  {
   "cell_type": "code",
   "execution_count": 31,
   "metadata": {
    "ExecuteTime": {
     "end_time": "2018-03-23T09:42:25.574153Z",
     "start_time": "2018-03-23T09:42:25.215746Z"
    }
   },
   "outputs": [
    {
     "data": {
      "image/png": "[encoded data removed]",
      "text/plain": [
       "<matplotlib.figure.Figure at 0x142eb4d30>"
      ]
     },
     "metadata": {},
     "output_type": "display_data"
    }
   ],
   "source": [
    "plot_train_history(history)"
   ]
  },
  {
   "cell_type": "markdown",
   "metadata": {},
   "source": [
    "## GloVe-based Model (let's start with averaging)"
   ]
  },
  {
   "cell_type": "markdown",
   "metadata": {},
   "source": [
    "Download and extract the official pre-trained GloVe matrix:\n",
    "\n",
    "    https://nlp.stanford.edu/data/glove.6B.zip\n",
    "    unzip glove.6B.zip\n",
    "    \n",
    "We decided to use GloVe over word2vec as in our experience, GloVe carries word semantics better and works better in semantic-sensitive tasks.  But the difference is not huge."
   ]
  },
  {
   "cell_type": "markdown",
   "metadata": {},
   "source": [
    "### Loading GloVe vocabulary"
   ]
  },
  {
   "cell_type": "markdown",
   "metadata": {},
   "source": [
    "You may need to restart your kernel here if you don't have a lot of free memory, to get rid of the bag-of-words vectors from before."
   ]
  },
  {
   "cell_type": "code",
   "execution_count": 8,
   "metadata": {
    "ExecuteTime": {
     "end_time": "2018-03-23T10:37:29.965972Z",
     "start_time": "2018-03-23T10:37:29.960201Z"
    },
    "collapsed": true
   },
   "outputs": [],
   "source": [
    "# Embedding dimension means how many elements each word vector has.\n",
    "# Common values are 50 and 300.  Generally, larger vectors have more\n",
    "# capacity to carry information (meaning).  But the training process\n",
    "# is slower, both vectors and further layers take more memory, and\n",
    "# there could be higher risk of overfitting.\n",
    "EMBEDDING_DIM = 50"
   ]
  },
  {
   "cell_type": "code",
   "execution_count": 10,
   "metadata": {
    "ExecuteTime": {
     "end_time": "2018-03-23T10:37:49.552808Z",
     "start_time": "2018-03-23T10:37:41.935580Z"
    }
   },
   "outputs": [
    {
     "name": "stderr",
     "output_type": "stream",
     "text": [
      "400000it [00:07, 55364.37it/s]"
     ]
    },
    {
     "name": "stdout",
     "output_type": "stream",
     "text": [
      "Found 400000 word vectors.\n"
     ]
    },
    {
     "name": "stderr",
     "output_type": "stream",
     "text": [
      "\n"
     ]
    }
   ],
   "source": [
    "from tqdm import tqdm\n",
    "import numpy as np\n",
    "# let's create a dictionary of each word in the pre-trained GloVe embeddings, saving its location indexes \n",
    "import os\n",
    "GLOVE_DIR = \"glove.6B\"\n",
    "embeddings_index = {}\n",
    "with open(os.path.join(GLOVE_DIR, 'glove.6B.%dd.txt' % EMBEDDING_DIM)) as f:\n",
    "    for line in tqdm(f):\n",
    "        values = line.split()\n",
    "        word = values[0]\n",
    "        coefs = np.asarray(values[1:], dtype='float32')\n",
    "        embeddings_index[word] = coefs\n",
    "\n",
    "print('Found %s word vectors.' % len(embeddings_index))"
   ]
  },
  {
   "cell_type": "code",
   "execution_count": null,
   "metadata": {
    "ExecuteTime": {
     "end_time": "2018-03-23T10:35:16.013211Z",
     "start_time": "2018-03-23T10:33:38.651Z"
    }
   },
   "outputs": [],
   "source": [
    "# a matrix that is indexed by our vocabulary, containing\n",
    "# GloVe embedding for each vocabulary element\n",
    "embedding_matrix = np.zeros((len(vocab) + 1, EMBEDDING_DIM))\n",
    "for i, word in tqdm(enumerate(vocab)):\n",
    "    embedding_vector = embeddings_index.get(word)\n",
    "    if embedding_vector is not None:\n",
    "        # words not found in embedding index will be all-zeros.\n",
    "        # also, [0] is reserved for padding\n",
    "        embedding_matrix[i + 1] = embedding_vector"
   ]
  },
  {
   "cell_type": "markdown",
   "metadata": {},
   "source": [
    "Checking how many words have no pre-trained GloVe word embeddings:"
   ]
  },
  {
   "cell_type": "code",
   "execution_count": null,
   "metadata": {
    "ExecuteTime": {
     "end_time": "2018-03-23T10:35:16.017615Z",
     "start_time": "2018-03-23T10:33:40.274Z"
    }
   },
   "outputs": [],
   "source": [
    "1. * np.count_nonzero(np.all(embedding_matrix == 0, axis=1)) / len(vocab)  # OOV portion"
   ]
  },
  {
   "cell_type": "markdown",
   "metadata": {},
   "source": [
    "We are representing reviews as sequences now.  However, each sequence must have the same length on the input in Keras.  We will pad shorter sequences by zeroes from right, but what should be the maximum sequence length?  Let's find a compromise."
   ]
  },
  {
   "cell_type": "code",
   "execution_count": 38,
   "metadata": {
    "ExecuteTime": {
     "end_time": "2018-03-23T09:44:17.892073Z",
     "start_time": "2018-03-23T09:44:17.868315Z"
    }
   },
   "outputs": [
    {
     "name": "stdout",
     "output_type": "stream",
     "text": [
      "Longest: 2470, Average: 233.807120, Median: 174, 90% percentile: 458 tokens\n"
     ]
    }
   ],
   "source": [
    "lengths = sorted([len(X) for X in X_train])\n",
    "percentile = 0.90\n",
    "seq_cutoff = lengths[int(len(lengths)*percentile)]\n",
    "print('Longest: %d, Average: %f, Median: %d, %d%% percentile: %d tokens' % (lengths[-1], np.mean(lengths), lengths[int(len(lengths)*0.5)], percentile*100, seq_cutoff))"
   ]
  },
  {
   "cell_type": "code",
   "execution_count": 39,
   "metadata": {
    "ExecuteTime": {
     "end_time": "2018-03-23T09:44:26.453616Z",
     "start_time": "2018-03-23T09:44:26.436431Z"
    },
    "collapsed": true
   },
   "outputs": [],
   "source": [
    "def vocab_indices_vector(tokens):\n",
    "    vector = [0] * seq_cutoff\n",
    "    if len(tokens) > seq_cutoff:\n",
    "        # Remove the middle\n",
    "        tokens = tokens[: seq_cutoff // 2] + ['SINGLE_PADDING_IN_THE_MIDDLE'] + tokens[-seq_cutoff // 2 :]\n",
    "    for i, t in enumerate(tokens):\n",
    "        try:\n",
    "            vector[i] = vocab.index(t) + 1  # reserving 0 for padding\n",
    "        except:\n",
    "            pass  # ignore missing words\n",
    "    return vector"
   ]
  },
  {
   "cell_type": "code",
   "execution_count": 40,
   "metadata": {
    "ExecuteTime": {
     "end_time": "2018-03-23T09:47:07.481076Z",
     "start_time": "2018-03-23T09:44:28.560700Z"
    },
    "collapsed": true
   },
   "outputs": [],
   "source": [
    "X_indices_train = [vocab_indices_vector(x) for x in X_train]\n",
    "X_indices_val = [vocab_indices_vector(x) for x in X_val]"
   ]
  },
  {
   "cell_type": "markdown",
   "metadata": {},
   "source": [
    "### GloVe averaging model"
   ]
  },
  {
   "cell_type": "code",
   "execution_count": 41,
   "metadata": {
    "ExecuteTime": {
     "end_time": "2018-03-23T09:48:21.741349Z",
     "start_time": "2018-03-23T09:47:46.708900Z"
    },
    "scrolled": true
   },
   "outputs": [
    {
     "name": "stdout",
     "output_type": "stream",
     "text": [
      "_________________________________________________________________\n",
      "Layer (type)                 Output Shape              Param #   \n",
      "=================================================================\n",
      "seq_input (InputLayer)       (None, 458)               0         \n",
      "_________________________________________________________________\n",
      "embedding_1 (Embedding)      (None, 458, 50)           250050    \n",
      "_________________________________________________________________\n",
      "global_average_pooling1d_1 ( (None, 50)                0         \n",
      "_________________________________________________________________\n",
      "dense_12 (Dense)             (None, 1)                 51        \n",
      "=================================================================\n",
      "Total params: 250,101\n",
      "Trainable params: 51\n",
      "Non-trainable params: 250,050\n",
      "_________________________________________________________________\n",
      "Fitting...\n",
      "Train on 25000 samples, validate on 25000 samples\n",
      "Epoch 1/10\n",
      "25000/25000 [==============================] - 4s 180us/step - loss: 0.6839 - acc: 0.5977 - val_loss: 0.6756 - val_acc: 0.6404\n",
      "Epoch 2/10\n",
      "25000/25000 [==============================] - 4s 152us/step - loss: 0.6672 - acc: 0.6529 - val_loss: 0.6625 - val_acc: 0.6537\n",
      "Epoch 3/10\n",
      "25000/25000 [==============================] - 3s 113us/step - loss: 0.6551 - acc: 0.6664 - val_loss: 0.6526 - val_acc: 0.6590\n",
      "Epoch 4/10\n",
      "25000/25000 [==============================] - 3s 107us/step - loss: 0.6457 - acc: 0.6706 - val_loss: 0.6448 - val_acc: 0.6650\n",
      "Epoch 5/10\n",
      "25000/25000 [==============================] - 3s 113us/step - loss: 0.6380 - acc: 0.6763 - val_loss: 0.6381 - val_acc: 0.6690\n",
      "Epoch 6/10\n",
      "25000/25000 [==============================] - 3s 108us/step - loss: 0.6314 - acc: 0.6788 - val_loss: 0.6324 - val_acc: 0.6738\n",
      "Epoch 7/10\n",
      "25000/25000 [==============================] - 4s 142us/step - loss: 0.6255 - acc: 0.6854 - val_loss: 0.6275 - val_acc: 0.6770\n",
      "Epoch 8/10\n",
      "25000/25000 [==============================] - 4s 140us/step - loss: 0.6205 - acc: 0.6892 - val_loss: 0.6233 - val_acc: 0.6823\n",
      "Epoch 9/10\n",
      "25000/25000 [==============================] - 3s 130us/step - loss: 0.6160 - acc: 0.6926 - val_loss: 0.6188 - val_acc: 0.6869\n",
      "Epoch 10/10\n",
      "25000/25000 [==============================] - 3s 134us/step - loss: 0.6119 - acc: 0.6970 - val_loss: 0.6151 - val_acc: 0.6908\n",
      "Accuracy (epoch 10): 0.6970 train, 0.6908 val\n"
     ]
    }
   ],
   "source": [
    "from keras.layers import Activation, GlobalAveragePooling1D, Dense, Embedding, Input\n",
    "from keras.models import Model\n",
    "import numpy as np\n",
    "\n",
    "class GloveAvgSentimentModel(object):\n",
    "    def __init__(self):\n",
    "        self.model = self.create()\n",
    "        self.model.summary()\n",
    "        self.model.compile(optimizer='adam', loss='binary_crossentropy', metrics=['accuracy'])\n",
    "        \n",
    "    def create(self):\n",
    "        seq_indices = Input(shape=(seq_cutoff,), name='seq_input')                    \n",
    "        seq_embedded = Embedding(input_dim=len(vocab) + 1, output_dim=EMBEDDING_DIM, weights=[embedding_matrix],\n",
    "                                 input_length=seq_cutoff, trainable=False)(seq_indices)\n",
    "        avg_embedded = GlobalAveragePooling1D()(seq_embedded)\n",
    "        sentiment = Dense(1, activation='sigmoid')(avg_embedded)\n",
    "\n",
    "        return Model(inputs=[seq_indices], outputs=[sentiment])\n",
    "\n",
    "    def train(self, X, y, X_val, y_val):\n",
    "        print('Fitting...')\n",
    "        return self.model.fit(np.array(X, dtype='int32'), y,\n",
    "                              validation_data=(np.array(X_val, dtype='int32'), y_val), epochs=10, verbose=1)\n",
    "\n",
    "    def predict(self, X):\n",
    "        return self.model.predict(np.array(X))\n",
    "    \n",
    "sentiment = GloveAvgSentimentModel()\n",
    "history = sentiment.train(X_indices_train, y_train, X_indices_val, y_val)\n",
    "best_train_history(history)"
   ]
  },
  {
   "cell_type": "markdown",
   "metadata": {},
   "source": [
    "Questions:\n",
    "  * Predict sentiment from mean embedding, or mean sentiment from each embedding?\n",
    "  * Projection to a latent \"sentiment predictive\" vector space first?\n",
    "  \n",
    "Other ideas (for pretty much all further models):\n",
    "  * Trainable embeddings?\n",
    "  * ...what about embeddings from scratch, by the way?\n",
    "  * Just more epochs?\n",
    "\n",
    "Advanced idea:\n",
    "  * Could we visualize importance of individual words towards the predicted sentiment?"
   ]
  },
  {
   "cell_type": "markdown",
   "metadata": {},
   "source": [
    "### Maximum in a \"sentiment predictive\" space"
   ]
  },
  {
   "cell_type": "code",
   "execution_count": 25,
   "metadata": {
    "scrolled": true
   },
   "outputs": [
    {
     "name": "stdout",
     "output_type": "stream",
     "text": [
      "_________________________________________________________________\n",
      "Layer (type)                 Output Shape              Param #   \n",
      "=================================================================\n",
      "seq_input (InputLayer)       (None, 458)               0         \n",
      "_________________________________________________________________\n",
      "embedding_2 (Embedding)      (None, 458, 50)           250050    \n",
      "_________________________________________________________________\n",
      "dense_7 (Dense)              (None, 458, 64)           3264      \n",
      "_________________________________________________________________\n",
      "global_max_pooling1d_1 (Glob (None, 64)                0         \n",
      "_________________________________________________________________\n",
      "dense_8 (Dense)              (None, 1)                 65        \n",
      "=================================================================\n",
      "Total params: 253,379\n",
      "Trainable params: 3,329\n",
      "Non-trainable params: 250,050\n",
      "_________________________________________________________________\n",
      "Fitting...\n",
      "['seq_input']\n",
      "['dense_8']\n",
      "['seq_input']\n",
      "['dense_8']\n",
      "Train on 25000 samples, validate on 25000 samples\n",
      "Epoch 1/10\n",
      "25000/25000 [==============================] - 4s 155us/step - loss: 0.5546 - acc: 0.7292 - val_loss: 0.4599 - val_acc: 0.7936\n",
      "Epoch 2/10\n",
      "25000/25000 [==============================] - 4s 144us/step - loss: 0.4316 - acc: 0.8094 - val_loss: 0.4171 - val_acc: 0.8119\n",
      "Epoch 3/10\n",
      "25000/25000 [==============================] - 4s 145us/step - loss: 0.3946 - acc: 0.8284 - val_loss: 0.4106 - val_acc: 0.8125\n",
      "Epoch 4/10\n",
      "25000/25000 [==============================] - 4s 147us/step - loss: 0.3717 - acc: 0.8409 - val_loss: 0.3843 - val_acc: 0.8272\n",
      "Epoch 5/10\n",
      "25000/25000 [==============================] - 4s 146us/step - loss: 0.3566 - acc: 0.8474 - val_loss: 0.3786 - val_acc: 0.8289\n",
      "Epoch 6/10\n",
      "25000/25000 [==============================] - 4s 147us/step - loss: 0.3432 - acc: 0.8526 - val_loss: 0.3736 - val_acc: 0.8318\n",
      "Epoch 7/10\n",
      "25000/25000 [==============================] - 4s 147us/step - loss: 0.3328 - acc: 0.8572 - val_loss: 0.3817 - val_acc: 0.8264\n",
      "Epoch 8/10\n",
      "25000/25000 [==============================] - 4s 145us/step - loss: 0.3251 - acc: 0.8625 - val_loss: 0.3688 - val_acc: 0.8352\n",
      "Epoch 9/10\n",
      "25000/25000 [==============================] - 4s 144us/step - loss: 0.3184 - acc: 0.8652 - val_loss: 0.3665 - val_acc: 0.8362\n",
      "Epoch 10/10\n",
      "25000/25000 [==============================] - 4s 145us/step - loss: 0.3121 - acc: 0.8683 - val_loss: 0.3675 - val_acc: 0.8357\n",
      "Accuracy (epoch 9): 0.8652 train, 0.8362 val\n"
     ]
    }
   ],
   "source": [
    "from keras.layers import Activation, GlobalMaxPooling1D, Dense, Embedding, Input\n",
    "from keras.models import Model\n",
    "import numpy as np\n",
    "\n",
    "class GloveHiddenMaxSentimentModel(object):\n",
    "    def __init__(self, N=64):\n",
    "        self.model = self.create(N)\n",
    "        self.model.summary()\n",
    "        self.model.compile(optimizer='adam', loss='binary_crossentropy', metrics=['accuracy'])\n",
    "        \n",
    "    def create(self, N):\n",
    "        seq_indices = Input(shape=(seq_cutoff,), name='seq_input')                    \n",
    "        seq_embedded = Embedding(input_dim=len(vocab) + 1, output_dim=EMBEDDING_DIM, weights=[embedding_matrix],\n",
    "                                 input_length=seq_cutoff, trainable=False)(seq_indices)\n",
    "        seq_hidden = Dense(N, activation='tanh')(seq_embedded)\n",
    "        max_hidden = GlobalMaxPooling1D()(seq_hidden)\n",
    "        sentiment = Dense(1, activation='sigmoid')(max_hidden)\n",
    "\n",
    "        return Model(inputs=[seq_indices], outputs=[sentiment])\n",
    "\n",
    "    def train(self, X, y, X_val, y_val):\n",
    "        print('Fitting...')\n",
    "        return self.model.fit(np.array(X, dtype='int32'), y,\n",
    "                              validation_data=(np.array(X_val, dtype='int32'), y_val), epochs=10, verbose=1)\n",
    "\n",
    "    def predict(self, X):\n",
    "        return self.model.predict(np.array(X))\n",
    "    \n",
    "sentiment = GloveHiddenMaxSentimentModel()\n",
    "history = sentiment.train(X_indices_train, y_train, X_indices_val, y_val)\n",
    "best_train_history(history)"
   ]
  },
  {
   "cell_type": "markdown",
   "metadata": {},
   "source": [
    "Ideas:\n",
    "  * Averaging rather than maximum?\n",
    "  * Do other N values make a difference?"
   ]
  },
  {
   "cell_type": "markdown",
   "metadata": {},
   "source": [
    "## Convolutions on sequences of embeddings"
   ]
  },
  {
   "cell_type": "code",
   "execution_count": 26,
   "metadata": {
    "scrolled": true
   },
   "outputs": [
    {
     "name": "stdout",
     "output_type": "stream",
     "text": [
      "_________________________________________________________________\n",
      "Layer (type)                 Output Shape              Param #   \n",
      "=================================================================\n",
      "seq_input (InputLayer)       (None, 458)               0         \n",
      "_________________________________________________________________\n",
      "embedding_3 (Embedding)      (None, 458, 50)           250050    \n",
      "_________________________________________________________________\n",
      "conv1d_1 (Conv1D)            (None, 456, 64)           9664      \n",
      "_________________________________________________________________\n",
      "global_max_pooling1d_2 (Glob (None, 64)                0         \n",
      "_________________________________________________________________\n",
      "dense_9 (Dense)              (None, 64)                4160      \n",
      "_________________________________________________________________\n",
      "dense_10 (Dense)             (None, 1)                 65        \n",
      "=================================================================\n",
      "Total params: 263,939\n",
      "Trainable params: 13,889\n",
      "Non-trainable params: 250,050\n",
      "_________________________________________________________________\n",
      "Fitting...\n",
      "['seq_input']\n",
      "['dense_10']\n",
      "['seq_input']\n",
      "['dense_10']\n",
      "Train on 25000 samples, validate on 25000 samples\n",
      "Epoch 1/10\n",
      "25000/25000 [==============================] - 6s 240us/step - loss: 0.4946 - acc: 0.7489 - val_loss: 0.4146 - val_acc: 0.8111\n",
      "Epoch 2/10\n",
      "25000/25000 [==============================] - 4s 168us/step - loss: 0.3692 - acc: 0.8385 - val_loss: 0.3745 - val_acc: 0.8340\n",
      "Epoch 3/10\n",
      "25000/25000 [==============================] - 4s 167us/step - loss: 0.3295 - acc: 0.8583 - val_loss: 0.4009 - val_acc: 0.8249\n",
      "Epoch 4/10\n",
      "25000/25000 [==============================] - 4s 167us/step - loss: 0.3007 - acc: 0.8734 - val_loss: 0.3925 - val_acc: 0.8296\n",
      "Epoch 5/10\n",
      "25000/25000 [==============================] - 4s 167us/step - loss: 0.2730 - acc: 0.8872 - val_loss: 0.3785 - val_acc: 0.8374\n",
      "Epoch 6/10\n",
      "25000/25000 [==============================] - 4s 168us/step - loss: 0.2498 - acc: 0.8979 - val_loss: 0.3955 - val_acc: 0.8358\n",
      "Epoch 7/10\n",
      "25000/25000 [==============================] - 4s 167us/step - loss: 0.2358 - acc: 0.9030 - val_loss: 0.4073 - val_acc: 0.8319\n",
      "Epoch 8/10\n",
      "25000/25000 [==============================] - 4s 168us/step - loss: 0.2138 - acc: 0.9129 - val_loss: 0.5104 - val_acc: 0.8086\n",
      "Epoch 9/10\n",
      "25000/25000 [==============================] - 4s 166us/step - loss: 0.2093 - acc: 0.9157 - val_loss: 0.4437 - val_acc: 0.8274\n",
      "Epoch 10/10\n",
      "25000/25000 [==============================] - 4s 168us/step - loss: 0.1935 - acc: 0.9227 - val_loss: 0.4514 - val_acc: 0.8310\n",
      "Accuracy (epoch 5): 0.8872 train, 0.8374 val\n"
     ]
    }
   ],
   "source": [
    "from keras.layers import Activation, Conv1D, Dense, Embedding, GlobalMaxPooling1D, Input\n",
    "from keras.models import Model\n",
    "import numpy as np\n",
    "\n",
    "class GloveCNNSentimentModel(object):\n",
    "    def __init__(self, N=64, size=3):\n",
    "        self.model = self.create(N, size)\n",
    "        self.model.summary()\n",
    "        self.model.compile(optimizer='adam', loss='binary_crossentropy', metrics=['accuracy'])\n",
    "        \n",
    "    def create(self, N, size):\n",
    "        seq_indices = Input(shape=(seq_cutoff,), name='seq_input') \n",
    "        seq_embedded = Embedding(input_dim=len(vocab) + 1, output_dim=EMBEDDING_DIM, weights=[embedding_matrix],\n",
    "                                 input_length=seq_cutoff, trainable=False)(seq_indices)\n",
    "        seq_conv = Conv1D(N, size, activation='tanh')(seq_embedded)\n",
    "        max_conv = GlobalMaxPooling1D()(seq_conv)\n",
    "        hidden_repr = Dense(N, activation='tanh')(max_conv)\n",
    "        sentiment = Dense(1, activation='sigmoid')(hidden_repr)\n",
    "\n",
    "        return Model(inputs=[seq_indices], outputs=[sentiment])\n",
    "\n",
    "    def train(self, X, y, X_val, y_val):\n",
    "        print('Fitting...')\n",
    "        return self.model.fit(np.array(X, dtype='int32'), y,\n",
    "                              validation_data=(np.array(X_val, dtype='int32'), y_val), epochs=10, verbose=1)\n",
    "\n",
    "    def predict(self, X):\n",
    "        return self.model.predict(np.array(X))\n",
    "    \n",
    "sentiment = GloveCNNSentimentModel()\n",
    "history = sentiment.train(X_indices_train, y_train, X_indices_val, y_val)\n",
    "best_train_history(history)"
   ]
  },
  {
   "cell_type": "markdown",
   "metadata": {},
   "source": [
    "This model still sucks.  What problems does it have?\n",
    "\n",
    "But the model below is awesome.  (Stolen from Keras' `examples/imdb_cnn.py`.)\n",
    "  * What are the differences to the model above?\n",
    "  * What exactly makes it so awesome?\n",
    "  * Did we beat the bag-of-words baseline yet?"
   ]
  },
  {
   "cell_type": "code",
   "execution_count": 27,
   "metadata": {
    "scrolled": true
   },
   "outputs": [
    {
     "name": "stdout",
     "output_type": "stream",
     "text": [
      "_________________________________________________________________\n",
      "Layer (type)                 Output Shape              Param #   \n",
      "=================================================================\n",
      "seq_input (InputLayer)       (None, 458)               0         \n",
      "_________________________________________________________________\n",
      "embedding_4 (Embedding)      (None, 458, 50)           250050    \n",
      "_________________________________________________________________\n",
      "dropout_2 (Dropout)          (None, 458, 50)           0         \n",
      "_________________________________________________________________\n",
      "conv1d_2 (Conv1D)            (None, 456, 256)          38656     \n",
      "_________________________________________________________________\n",
      "global_max_pooling1d_3 (Glob (None, 256)               0         \n",
      "_________________________________________________________________\n",
      "dense_11 (Dense)             (None, 256)               65792     \n",
      "_________________________________________________________________\n",
      "dropout_3 (Dropout)          (None, 256)               0         \n",
      "_________________________________________________________________\n",
      "dense_12 (Dense)             (None, 1)                 257       \n",
      "=================================================================\n",
      "Total params: 354,755\n",
      "Trainable params: 354,755\n",
      "Non-trainable params: 0\n",
      "_________________________________________________________________\n",
      "Fitting...\n",
      "['seq_input']\n",
      "['dense_12']\n",
      "['seq_input']\n",
      "['dense_12']\n",
      "Train on 25000 samples, validate on 25000 samples\n",
      "Epoch 1/10\n",
      "25000/25000 [==============================] - 6s 241us/step - loss: 0.4191 - acc: 0.7960 - val_loss: 0.2955 - val_acc: 0.8770\n",
      "Epoch 2/10\n",
      "25000/25000 [==============================] - 6s 224us/step - loss: 0.2512 - acc: 0.8972 - val_loss: 0.2800 - val_acc: 0.8869\n",
      "Epoch 3/10\n",
      "25000/25000 [==============================] - 6s 222us/step - loss: 0.1829 - acc: 0.9278 - val_loss: 0.3035 - val_acc: 0.8794\n",
      "Epoch 4/10\n",
      "25000/25000 [==============================] - 6s 223us/step - loss: 0.1251 - acc: 0.9532 - val_loss: 0.3131 - val_acc: 0.8812\n",
      "Epoch 5/10\n",
      "25000/25000 [==============================] - 6s 225us/step - loss: 0.0889 - acc: 0.9672 - val_loss: 0.3449 - val_acc: 0.8795\n",
      "Epoch 6/10\n",
      "25000/25000 [==============================] - 6s 222us/step - loss: 0.0610 - acc: 0.9780 - val_loss: 0.4176 - val_acc: 0.8774\n",
      "Epoch 7/10\n",
      "25000/25000 [==============================] - 6s 221us/step - loss: 0.0499 - acc: 0.9812 - val_loss: 0.5348 - val_acc: 0.8638\n",
      "Epoch 8/10\n",
      "25000/25000 [==============================] - 6s 226us/step - loss: 0.0415 - acc: 0.9850 - val_loss: 0.4720 - val_acc: 0.8758\n",
      "Epoch 9/10\n",
      "25000/25000 [==============================] - 6s 224us/step - loss: 0.0351 - acc: 0.9878 - val_loss: 0.5985 - val_acc: 0.8618\n",
      "Epoch 10/10\n",
      "25000/25000 [==============================] - 6s 224us/step - loss: 0.0320 - acc: 0.9885 - val_loss: 0.5249 - val_acc: 0.8746\n",
      "Accuracy (epoch 2): 0.8972 train, 0.8869 val\n"
     ]
    }
   ],
   "source": [
    "from keras.layers import Activation, Conv1D, Dense, Embedding, GlobalMaxPooling1D, Input\n",
    "from keras.models import Model\n",
    "import numpy as np\n",
    "\n",
    "class GloveCNNAwesomeSentimentModel(object):\n",
    "    def __init__(self, N=256, size=3):\n",
    "        self.model = self.create(N, size)\n",
    "        self.model.summary()\n",
    "        self.model.compile(optimizer='adam', loss='binary_crossentropy', metrics=['accuracy'])\n",
    "        \n",
    "    def create(self, N, size):\n",
    "        seq_indices = Input(shape=(seq_cutoff,), name='seq_input') \n",
    "        seq_embedded = Embedding(input_dim=len(vocab) + 1, output_dim=EMBEDDING_DIM,\n",
    "                                 input_length=seq_cutoff)(seq_indices)\n",
    "        seq_conv = Conv1D(N, size, activation='relu')(Dropout(0.2)(seq_embedded))\n",
    "        max_conv = GlobalMaxPooling1D()(seq_conv)\n",
    "        hidden_repr = Dense(N, activation='relu')(max_conv)\n",
    "        sentiment = Dense(1, activation='sigmoid')(Dropout(0.2)(hidden_repr))\n",
    "\n",
    "        return Model(inputs=[seq_indices], outputs=[sentiment])\n",
    "\n",
    "    def train(self, X, y, X_val, y_val):\n",
    "        print('Fitting...')\n",
    "        return self.model.fit(np.array(X, dtype='int32'), y,\n",
    "                              validation_data=(np.array(X_val, dtype='int32'), y_val), epochs=10, verbose=1)\n",
    "\n",
    "    def predict(self, X):\n",
    "        return self.model.predict(np.array(X))\n",
    "    \n",
    "sentiment = GloveCNNAwesomeSentimentModel()\n",
    "history = sentiment.train(X_indices_train, y_train, X_indices_val, y_val)\n",
    "best_train_history(history)"
   ]
  },
  {
   "cell_type": "markdown",
   "metadata": {},
   "source": [
    "Can we make the model more awesome yet?\n",
    "\n",
    "Ideas:\n",
    "  * So what about the Glove pretrained embeddings?\n",
    "  * Project the embeddings to a more convolution-friendly space?\n",
    "  * Average pooling instead of max?\n",
    "  * Is 300D embedding better?\n",
    "  \n",
    "Advanced ideas:\n",
    "  * What about _both_ average and max pooling?\n",
    "  * `relu` activation is popular in computer vision CNNs instead of `tanh`.\n",
    "  * Some people recommend `rmsprop` optimizer rather than `adam` for CNNs. Does it matter?"
   ]
  },
  {
   "cell_type": "markdown",
   "metadata": {},
   "source": [
    "## Recurrence on sequences of embeddings"
   ]
  },
  {
   "cell_type": "code",
   "execution_count": 9,
   "metadata": {
    "ExecuteTime": {
     "end_time": "2018-03-23T10:33:00.531967Z",
     "start_time": "2018-03-23T10:32:56.936850Z"
    },
    "scrolled": true
   },
   "outputs": [
    {
     "name": "stderr",
     "output_type": "stream",
     "text": [
      "/Users/aloosley/anaconda2/envs/py3/lib/python3.6/site-packages/h5py/__init__.py:34: FutureWarning: Conversion of the second argument of issubdtype from `float` to `np.floating` is deprecated. In future, it will be treated as `np.float64 == np.dtype(float).type`.\n",
      "  from ._conv import register_converters as _register_converters\n",
      "Using TensorFlow backend.\n"
     ]
    },
    {
     "ename": "NameError",
     "evalue": "name 'seq_cutoff' is not defined",
     "output_type": "error",
     "traceback": [
      "\u001b[0;31m---------------------------------------------------------------------------\u001b[0m",
      "\u001b[0;31mNameError\u001b[0m                                 Traceback (most recent call last)",
      "\u001b[0;32m<ipython-input-9-f60e98fdd3e8>\u001b[0m in \u001b[0;36m<module>\u001b[0;34m()\u001b[0m\n\u001b[1;32m     26\u001b[0m         \u001b[0;32mreturn\u001b[0m \u001b[0mself\u001b[0m\u001b[0;34m.\u001b[0m\u001b[0mmodel\u001b[0m\u001b[0;34m.\u001b[0m\u001b[0mpredict\u001b[0m\u001b[0;34m(\u001b[0m\u001b[0mnp\u001b[0m\u001b[0;34m.\u001b[0m\u001b[0marray\u001b[0m\u001b[0;34m(\u001b[0m\u001b[0mX\u001b[0m\u001b[0;34m)\u001b[0m\u001b[0;34m)\u001b[0m\u001b[0;34m\u001b[0m\u001b[0m\n\u001b[1;32m     27\u001b[0m \u001b[0;34m\u001b[0m\u001b[0m\n\u001b[0;32m---> 28\u001b[0;31m \u001b[0msentiment\u001b[0m \u001b[0;34m=\u001b[0m \u001b[0mGloveGRUSentimentModel\u001b[0m\u001b[0;34m(\u001b[0m\u001b[0;34m)\u001b[0m\u001b[0;34m\u001b[0m\u001b[0m\n\u001b[0m\u001b[1;32m     29\u001b[0m \u001b[0mhistory\u001b[0m \u001b[0;34m=\u001b[0m \u001b[0msentiment\u001b[0m\u001b[0;34m.\u001b[0m\u001b[0mtrain\u001b[0m\u001b[0;34m(\u001b[0m\u001b[0mX_indices_train\u001b[0m\u001b[0;34m,\u001b[0m \u001b[0my_train\u001b[0m\u001b[0;34m,\u001b[0m \u001b[0mX_indices_val\u001b[0m\u001b[0;34m,\u001b[0m \u001b[0my_val\u001b[0m\u001b[0;34m)\u001b[0m\u001b[0;34m\u001b[0m\u001b[0m\n\u001b[1;32m     30\u001b[0m \u001b[0mbest_train_history\u001b[0m\u001b[0;34m(\u001b[0m\u001b[0mhistory\u001b[0m\u001b[0;34m)\u001b[0m\u001b[0;34m\u001b[0m\u001b[0m\n",
      "\u001b[0;32m<ipython-input-9-f60e98fdd3e8>\u001b[0m in \u001b[0;36m__init__\u001b[0;34m(self, N)\u001b[0m\n\u001b[1;32m      5\u001b[0m \u001b[0;32mclass\u001b[0m \u001b[0mGloveGRUSentimentModel\u001b[0m\u001b[0;34m(\u001b[0m\u001b[0mobject\u001b[0m\u001b[0;34m)\u001b[0m\u001b[0;34m:\u001b[0m\u001b[0;34m\u001b[0m\u001b[0m\n\u001b[1;32m      6\u001b[0m     \u001b[0;32mdef\u001b[0m \u001b[0m__init__\u001b[0m\u001b[0;34m(\u001b[0m\u001b[0mself\u001b[0m\u001b[0;34m,\u001b[0m \u001b[0mN\u001b[0m\u001b[0;34m=\u001b[0m\u001b[0;36m64\u001b[0m\u001b[0;34m)\u001b[0m\u001b[0;34m:\u001b[0m\u001b[0;34m\u001b[0m\u001b[0m\n\u001b[0;32m----> 7\u001b[0;31m         \u001b[0mself\u001b[0m\u001b[0;34m.\u001b[0m\u001b[0mmodel\u001b[0m \u001b[0;34m=\u001b[0m \u001b[0mself\u001b[0m\u001b[0;34m.\u001b[0m\u001b[0mcreate\u001b[0m\u001b[0;34m(\u001b[0m\u001b[0mN\u001b[0m\u001b[0;34m)\u001b[0m\u001b[0;34m\u001b[0m\u001b[0m\n\u001b[0m\u001b[1;32m      8\u001b[0m         \u001b[0mself\u001b[0m\u001b[0;34m.\u001b[0m\u001b[0mmodel\u001b[0m\u001b[0;34m.\u001b[0m\u001b[0msummary\u001b[0m\u001b[0;34m(\u001b[0m\u001b[0;34m)\u001b[0m\u001b[0;34m\u001b[0m\u001b[0m\n\u001b[1;32m      9\u001b[0m         \u001b[0mself\u001b[0m\u001b[0;34m.\u001b[0m\u001b[0mmodel\u001b[0m\u001b[0;34m.\u001b[0m\u001b[0mcompile\u001b[0m\u001b[0;34m(\u001b[0m\u001b[0moptimizer\u001b[0m\u001b[0;34m=\u001b[0m\u001b[0;34m'adam'\u001b[0m\u001b[0;34m,\u001b[0m \u001b[0mloss\u001b[0m\u001b[0;34m=\u001b[0m\u001b[0;34m'binary_crossentropy'\u001b[0m\u001b[0;34m,\u001b[0m \u001b[0mmetrics\u001b[0m\u001b[0;34m=\u001b[0m\u001b[0;34m[\u001b[0m\u001b[0;34m'accuracy'\u001b[0m\u001b[0;34m]\u001b[0m\u001b[0;34m)\u001b[0m\u001b[0;34m\u001b[0m\u001b[0m\n",
      "\u001b[0;32m<ipython-input-9-f60e98fdd3e8>\u001b[0m in \u001b[0;36mcreate\u001b[0;34m(self, N)\u001b[0m\n\u001b[1;32m     10\u001b[0m \u001b[0;34m\u001b[0m\u001b[0m\n\u001b[1;32m     11\u001b[0m     \u001b[0;32mdef\u001b[0m \u001b[0mcreate\u001b[0m\u001b[0;34m(\u001b[0m\u001b[0mself\u001b[0m\u001b[0;34m,\u001b[0m \u001b[0mN\u001b[0m\u001b[0;34m)\u001b[0m\u001b[0;34m:\u001b[0m\u001b[0;34m\u001b[0m\u001b[0m\n\u001b[0;32m---> 12\u001b[0;31m         \u001b[0mseq_indices\u001b[0m \u001b[0;34m=\u001b[0m \u001b[0mInput\u001b[0m\u001b[0;34m(\u001b[0m\u001b[0mshape\u001b[0m\u001b[0;34m=\u001b[0m\u001b[0;34m(\u001b[0m\u001b[0mseq_cutoff\u001b[0m\u001b[0;34m,\u001b[0m\u001b[0;34m)\u001b[0m\u001b[0;34m,\u001b[0m \u001b[0mname\u001b[0m\u001b[0;34m=\u001b[0m\u001b[0;34m'seq_input'\u001b[0m\u001b[0;34m)\u001b[0m\u001b[0;34m\u001b[0m\u001b[0m\n\u001b[0m\u001b[1;32m     13\u001b[0m         seq_embedded = Embedding(input_dim=len(vocab) + 1, output_dim=EMBEDDING_DIM, weights=[embedding_matrix],\n\u001b[1;32m     14\u001b[0m                                  input_length=seq_cutoff, trainable=False)(seq_indices)\n",
      "\u001b[0;31mNameError\u001b[0m: name 'seq_cutoff' is not defined"
     ]
    }
   ],
   "source": [
    "from keras.layers import Activation, Dense, Embedding, GRU, Input\n",
    "from keras.models import Model\n",
    "import numpy as np\n",
    "\n",
    "class GloveGRUSentimentModel(object):\n",
    "    def __init__(self, N=64):\n",
    "        self.model = self.create(N)\n",
    "        self.model.summary()\n",
    "        self.model.compile(optimizer='adam', loss='binary_crossentropy', metrics=['accuracy'])\n",
    "        \n",
    "    def create(self, N):\n",
    "        seq_indices = Input(shape=(seq_cutoff,), name='seq_input') \n",
    "        seq_embedded = Embedding(input_dim=len(vocab) + 1, output_dim=EMBEDDING_DIM, weights=[embedding_matrix],\n",
    "                                 input_length=seq_cutoff, trainable=False)(seq_indices)\n",
    "        recursive_repr = GRU(N)(seq_embedded)\n",
    "        sentiment = Dense(1, activation='sigmoid')(recursive_repr)\n",
    "\n",
    "        return Model(inputs=[seq_indices], outputs=[sentiment])\n",
    "\n",
    "    def train(self, X, y, X_val, y_val):\n",
    "        print('Fitting...')\n",
    "        return self.model.fit(np.array(X, dtype='int32'), y,\n",
    "                              validation_data=(np.array(X_val, dtype='int32'), y_val), epochs=10, verbose=1)\n",
    "\n",
    "    def predict(self, X):\n",
    "        return self.model.predict(np.array(X))\n",
    "    \n",
    "sentiment = GloveGRUSentimentModel()\n",
    "history = sentiment.train(X_indices_train, y_train, X_indices_val, y_val)\n",
    "best_train_history(history)"
   ]
  },
  {
   "cell_type": "markdown",
   "metadata": {},
   "source": [
    "If you take the time to train the model, it seems to really suck after the first epoch.  What could be the problem?  (Imagine the input, and how the RNN processes it.)"
   ]
  },
  {
   "cell_type": "markdown",
   "metadata": {},
   "source": [
    "The model below fixes the problem - how?  What is the most essential change?"
   ]
  },
  {
   "cell_type": "code",
   "execution_count": null,
   "metadata": {
    "scrolled": true
   },
   "outputs": [
    {
     "name": "stdout",
     "output_type": "stream",
     "text": [
      "_________________________________________________________________\n",
      "Layer (type)                 Output Shape              Param #   \n",
      "=================================================================\n",
      "seq_input (InputLayer)       (None, 458)               0         \n",
      "_________________________________________________________________\n",
      "embedding_6 (Embedding)      (None, 458, 50)           250050    \n",
      "_________________________________________________________________\n",
      "bidirectional_1 (Bidirection (None, 128)               44160     \n",
      "_________________________________________________________________\n",
      "dense_14 (Dense)             (None, 1)                 129       \n",
      "=================================================================\n",
      "Total params: 294,339\n",
      "Trainable params: 294,339\n",
      "Non-trainable params: 0\n",
      "_________________________________________________________________\n",
      "Fitting...\n",
      "['seq_input']\n",
      "['dense_14']\n",
      "['seq_input']\n",
      "['dense_14']\n",
      "Train on 25000 samples, validate on 25000 samples\n",
      "Epoch 1/10\n",
      "25000/25000 [==============================] - 306s 12ms/step - loss: 0.5319 - acc: 0.7134 - val_loss: 0.3534 - val_acc: 0.8473\n",
      "Epoch 2/10\n",
      "25000/25000 [==============================] - 307s 12ms/step - loss: 0.3012 - acc: 0.8737 - val_loss: 0.2861 - val_acc: 0.8796\n",
      "Epoch 3/10\n",
      "25000/25000 [==============================] - 307s 12ms/step - loss: 0.2445 - acc: 0.9011 - val_loss: 0.3012 - val_acc: 0.8715\n",
      "Epoch 4/10\n",
      "25000/25000 [==============================] - 303s 12ms/step - loss: 0.2094 - acc: 0.9182 - val_loss: 0.2831 - val_acc: 0.8879\n",
      "Epoch 5/10\n",
      "25000/25000 [==============================] - 303s 12ms/step - loss: 0.1752 - acc: 0.9330 - val_loss: 0.3280 - val_acc: 0.8724\n",
      "Epoch 6/10\n",
      "25000/25000 [==============================] - 307s 12ms/step - loss: 0.1453 - acc: 0.9461 - val_loss: 0.3160 - val_acc: 0.8874\n",
      "Epoch 7/10\n",
      "25000/25000 [==============================] - 308s 12ms/step - loss: 0.1195 - acc: 0.9563 - val_loss: 0.3404 - val_acc: 0.8826\n",
      "Epoch 8/10\n",
      "25000/25000 [==============================] - 306s 12ms/step - loss: 0.0907 - acc: 0.9699 - val_loss: 0.3737 - val_acc: 0.8775\n",
      "Epoch 9/10\n",
      "25000/25000 [==============================] - 305s 12ms/step - loss: 0.0631 - acc: 0.9806 - val_loss: 0.4440 - val_acc: 0.8740\n",
      "Epoch 10/10\n",
      "25000/25000 [==============================] - 304s 12ms/step - loss: 0.0398 - acc: 0.9894 - val_loss: 0.5192 - val_acc: 0.8696\n",
      "Accuracy (epoch 4): 0.9182 train, 0.8879 val\n"
     ]
    }
   ],
   "source": [
    "from keras.layers import Activation, Bidirectional, Dense, Embedding, GRU, Input\n",
    "from keras.models import Model\n",
    "import numpy as np\n",
    "\n",
    "class GloveGRUSentimentModel(object):\n",
    "    def __init__(self, N=64):\n",
    "        self.model = self.create(N)\n",
    "        self.model.summary()\n",
    "        self.model.compile(optimizer='adam', loss='binary_crossentropy', metrics=['accuracy'])\n",
    "        \n",
    "    def create(self, N):\n",
    "        seq_indices = Input(shape=(seq_cutoff,), name='seq_input') \n",
    "        seq_embedded = Embedding(input_dim=len(vocab) + 1, output_dim=EMBEDDING_DIM, weights=[embedding_matrix],\n",
    "                                 input_length=seq_cutoff, mask_zero=True)(seq_indices)\n",
    "        recursive_repr = Bidirectional(GRU(N))(seq_embedded)\n",
    "        sentiment = Dense(1, activation='sigmoid')(recursive_repr)\n",
    "\n",
    "        return Model(inputs=[seq_indices], outputs=[sentiment])\n",
    "\n",
    "    def train(self, X, y, X_val, y_val):\n",
    "        print('Fitting...')\n",
    "        return self.model.fit(np.array(X, dtype='int32'), y,\n",
    "                              validation_data=(np.array(X_val, dtype='int32'), y_val), epochs=10, verbose=1,\n",
    "                             batch_size=128)\n",
    "\n",
    "    def predict(self, X):\n",
    "        return self.model.predict(np.array(X))\n",
    "    \n",
    "sentiment = GloveGRUSentimentModel()\n",
    "history = sentiment.train(X_indices_train, y_train, X_indices_val, y_val)\n",
    "best_train_history(history)"
   ]
  },
  {
   "cell_type": "markdown",
   "metadata": {},
   "source": [
    "We are overfitting.  Can we improve generalization?\n",
    "\n",
    "Ideas:\n",
    "  * `GRU(N, return_sequence=True)` would return a single output element for each input element, rather than a single output for the whole sequence.  What cool things could we use this for?\n",
    "  * Any ideas to borrow from CNNs?\n",
    "  * Could we stack multiple GRUs on top of each other?"
   ]
  },
  {
   "cell_type": "markdown",
   "metadata": {},
   "source": [
    "## Combining CNN and GRU"
   ]
  },
  {
   "cell_type": "markdown",
   "metadata": {},
   "source": [
    "Let's go wild and take a look at an even more advanced model combining several ideas.  Can you explain what's going on here? Is this madness worth it? Which further improvements might be most desirable to test?"
   ]
  },
  {
   "cell_type": "code",
   "execution_count": null,
   "metadata": {},
   "outputs": [
    {
     "name": "stdout",
     "output_type": "stream",
     "text": [
      "__________________________________________________________________________________________________\n",
      "Layer (type)                    Output Shape         Param #     Connected to                     \n",
      "==================================================================================================\n",
      "seq_input (InputLayer)          (None, 458)          0                                            \n",
      "__________________________________________________________________________________________________\n",
      "embedding_7 (Embedding)         (None, 458, 50)      250050      seq_input[0][0]                  \n",
      "__________________________________________________________________________________________________\n",
      "dropout_4 (Dropout)             (None, 458, 50)      0           embedding_7[0][0]                \n",
      "__________________________________________________________________________________________________\n",
      "dense_15 (Dense)                (None, 458, 64)      3264        dropout_4[0][0]                  \n",
      "__________________________________________________________________________________________________\n",
      "dropout_5 (Dropout)             (None, 458, 64)      0           dense_15[0][0]                   \n",
      "__________________________________________________________________________________________________\n",
      "conv1d_3 (Conv1D)               (None, 458, 64)      12352       dropout_5[0][0]                  \n",
      "__________________________________________________________________________________________________\n",
      "add_1 (Add)                     (None, 458, 64)      0           dense_15[0][0]                   \n",
      "                                                                 conv1d_3[0][0]                   \n",
      "__________________________________________________________________________________________________\n",
      "global_max_pooling1d_4 (GlobalM (None, 64)           0           add_1[0][0]                      \n",
      "__________________________________________________________________________________________________\n",
      "bidirectional_2 (Bidirectional) (None, 128)          49536       add_1[0][0]                      \n",
      "__________________________________________________________________________________________________\n",
      "sentiment_by_hidden (Dense)     (None, 1)            65          global_max_pooling1d_4[0][0]     \n",
      "__________________________________________________________________________________________________\n",
      "sentiment (Dense)               (None, 1)            129         bidirectional_2[0][0]            \n",
      "==================================================================================================\n",
      "Total params: 315,396\n",
      "Trainable params: 315,396\n",
      "Non-trainable params: 0\n",
      "__________________________________________________________________________________________________\n",
      "Fitting...\n",
      "['seq_input']\n",
      "['sentiment_by_hidden', 'sentiment']\n",
      "['seq_input']\n",
      "['sentiment_by_hidden', 'sentiment']\n",
      "Train on 25000 samples, validate on 25000 samples\n",
      "Epoch 1/10\n",
      "25000/25000 [==============================] - 1047s 42ms/step - loss: 0.5901 - sentiment_by_hidden_loss: 0.5373 - sentiment_loss: 0.4826 - sentiment_by_hidden_acc: 0.7392 - sentiment_acc: 0.7476 - val_loss: 0.4038 - val_sentiment_by_hidden_loss: 0.3823 - val_sentiment_loss: 0.3274 - val_sentiment_by_hidden_acc: 0.8323 - val_sentiment_acc: 0.8634\n",
      "Epoch 2/10\n",
      "25000/25000 [==============================] - 946s 38ms/step - loss: 0.3874 - sentiment_by_hidden_loss: 0.3742 - sentiment_loss: 0.3125 - sentiment_by_hidden_acc: 0.8425 - sentiment_acc: 0.8664 - val_loss: 0.3651 - val_sentiment_by_hidden_loss: 0.3371 - val_sentiment_loss: 0.2976 - val_sentiment_by_hidden_acc: 0.8588 - val_sentiment_acc: 0.8724\n",
      "Epoch 3/10\n",
      "25000/25000 [==============================] - 931s 37ms/step - loss: 0.3332 - sentiment_by_hidden_loss: 0.3287 - sentiment_loss: 0.2675 - sentiment_by_hidden_acc: 0.8644 - sentiment_acc: 0.8889 - val_loss: 0.3490 - val_sentiment_by_hidden_loss: 0.3193 - val_sentiment_loss: 0.2851 - val_sentiment_by_hidden_acc: 0.8656 - val_sentiment_acc: 0.8832\n",
      "Epoch 4/10\n",
      "25000/25000 [==============================] - 948s 38ms/step - loss: 0.3013 - sentiment_by_hidden_loss: 0.3011 - sentiment_loss: 0.2411 - sentiment_by_hidden_acc: 0.8757 - sentiment_acc: 0.9020 - val_loss: 0.3201 - val_sentiment_by_hidden_loss: 0.3130 - val_sentiment_loss: 0.2575 - val_sentiment_by_hidden_acc: 0.8685 - val_sentiment_acc: 0.8935\n",
      "Epoch 5/10\n",
      "25000/25000 [==============================] - 1038s 42ms/step - loss: 0.2738 - sentiment_by_hidden_loss: 0.2822 - sentiment_loss: 0.2173 - sentiment_by_hidden_acc: 0.8866 - sentiment_acc: 0.9147 - val_loss: 0.3215 - val_sentiment_by_hidden_loss: 0.3108 - val_sentiment_loss: 0.2593 - val_sentiment_by_hidden_acc: 0.8705 - val_sentiment_acc: 0.8962\n",
      "Epoch 6/10\n",
      "25000/25000 [==============================] - 1065s 43ms/step - loss: 0.2577 - sentiment_by_hidden_loss: 0.2716 - sentiment_loss: 0.2034 - sentiment_by_hidden_acc: 0.8904 - sentiment_acc: 0.9198 - val_loss: 0.3290 - val_sentiment_by_hidden_loss: 0.3118 - val_sentiment_loss: 0.2666 - val_sentiment_by_hidden_acc: 0.8706 - val_sentiment_acc: 0.8902\n",
      "Epoch 7/10\n",
      "25000/25000 [==============================] - 1038s 42ms/step - loss: 0.2325 - sentiment_by_hidden_loss: 0.2570 - sentiment_loss: 0.1811 - sentiment_by_hidden_acc: 0.8966 - sentiment_acc: 0.9308 - val_loss: 0.3355 - val_sentiment_by_hidden_loss: 0.3179 - val_sentiment_loss: 0.2719 - val_sentiment_by_hidden_acc: 0.8692 - val_sentiment_acc: 0.8940\n",
      "Epoch 8/10\n",
      "25000/25000 [==============================] - 1030s 41ms/step - loss: 0.2211 - sentiment_by_hidden_loss: 0.2480 - sentiment_loss: 0.1715 - sentiment_by_hidden_acc: 0.9011 - sentiment_acc: 0.9332 - val_loss: 0.3501 - val_sentiment_by_hidden_loss: 0.3197 - val_sentiment_loss: 0.2861 - val_sentiment_by_hidden_acc: 0.8723 - val_sentiment_acc: 0.8925\n",
      "Epoch 9/10\n",
      "12224/25000 [=============>................] - ETA: 7:11 - loss: 0.1980 - sentiment_by_hidden_loss: 0.2361 - sentiment_loss: 0.1508 - sentiment_by_hidden_acc: 0.9080 - sentiment_acc: 0.9431"
     ]
    }
   ],
   "source": [
    "from keras.layers import Activation, Bidirectional, Conv1D, Dense, Embedding, GlobalMaxPooling1D, GRU, Input, add\n",
    "from keras.models import Model\n",
    "import numpy as np\n",
    "\n",
    "class GloveCNNGRUSISentimentModel(object):\n",
    "    def __init__(self, N=64, size=3):\n",
    "        self.model = self.create(N, size)\n",
    "        self.model.summary()\n",
    "        self.model.compile(optimizer='adam', loss='binary_crossentropy', loss_weights=[0.2, 1.0], metrics=['accuracy'])\n",
    "        \n",
    "    def create(self, N, size):\n",
    "        seq_indices = Input(shape=(seq_cutoff,), name='seq_input') \n",
    "        seq_embedded = Embedding(input_dim=len(vocab) + 1, output_dim=EMBEDDING_DIM, weights=[embedding_matrix],\n",
    "                                 input_length=seq_cutoff)(seq_indices)\n",
    "        seq_hidden = Dense(N, activation='tanh')(Dropout(0.2)(seq_embedded))\n",
    "        \n",
    "        seq_conv = Conv1D(N, size, activation='tanh', padding='same')(Dropout(0.2)(seq_hidden))\n",
    "        # Residual skip-connection: The convolution just fine-tunes per-word Dense projection.\n",
    "        seq_hidden = add([seq_hidden, seq_conv])\n",
    "        \n",
    "        recursive_repr = Bidirectional(GRU(N))(seq_hidden)\n",
    "        sentiment = Dense(1, activation='sigmoid', name='sentiment')(recursive_repr)\n",
    "        \n",
    "        # Inception: Also try to make even the hidden representation good enough to predict sentiment.\n",
    "        max_hidden = GlobalMaxPooling1D()(seq_hidden)\n",
    "        sentiment_by_hidden = Dense(1, activation='sigmoid', name='sentiment_by_hidden')(max_hidden)\n",
    "\n",
    "        return Model(inputs=[seq_indices], outputs=[sentiment_by_hidden, sentiment])\n",
    "\n",
    "    def train(self, X, y, X_val, y_val):\n",
    "        print('Fitting...')\n",
    "        return self.model.fit(np.array(X, dtype='int32'), [np.array(y), np.array(y)],\n",
    "                              validation_data=(np.array(X_val, dtype='int32'),\n",
    "                                               [np.array(y_val), np.array(y_val)]),\n",
    "                              epochs=10, verbose=1)\n",
    "\n",
    "    def predict(self, X):\n",
    "        return self.model.predict(np.array(X))[-1:]\n",
    "    \n",
    "sentiment = GloveCNNGRUSISentimentModel()\n",
    "history = sentiment.train(X_indices_train, y_train, X_indices_val, y_val)"
   ]
  },
  {
   "attachments": {
    "image.png": {
     "image/png": "[encoded data removed]"
    }
   },
   "cell_type": "markdown",
   "metadata": {},
   "source": [
    "Can we do even better? Yes - let's look at the literature.\n",
    "\n",
    "![image.png](attachment:image.png)\n",
    "\n",
    "...and https://arxiv.org/pdf/1605.07725.pdf (source of table above; 5.91%)"
   ]
  },
  {
   "cell_type": "markdown",
   "metadata": {},
   "source": [
    "Final challenge: What common idea is shared by all of the best models? Can you implement one of them based on what you learned today?"
   ]
  },
  {
   "cell_type": "code",
   "execution_count": null,
   "metadata": {
    "collapsed": true
   },
   "outputs": [],
   "source": []
  }
 ],
 "metadata": {
  "kernelspec": {
   "display_name": "Python 3",
   "language": "python",
   "name": "python3"
  },
  "language_info": {
   "codemirror_mode": {
    "name": "ipython",
    "version": 3
   },
   "file_extension": ".py",
   "mimetype": "text/x-python",
   "name": "python",
   "nbconvert_exporter": "python",
   "pygments_lexer": "ipython3",
   "version": "3.6.3"
  },
  "latex_envs": {
   "LaTeX_envs_menu_present": true,
   "bibliofile": "biblio.bib",
   "cite_by": "apalike",
   "current_citInitial": 1,
   "eqLabelWithNumbers": true,
   "eqNumInitial": 1,
   "labels_anchors": false,
   "latex_user_defs": false,
   "report_style_numbering": false,
   "user_envs_cfg": false
  },
  "toc": {
   "colors": {
    "hover_highlight": "#DAA520",
    "running_highlight": "#FF0000",
    "selected_highlight": "#FFD700"
   },
   "moveMenuLeft": true,
   "nav_menu": {
    "height": "162px",
    "width": "252px"
   },
   "navigate_menu": true,
   "number_sections": true,
   "sideBar": true,
   "threshold": 4,
   "toc_cell": false,
   "toc_section_display": "block",
   "toc_window_display": true
  },
  "varInspector": {
   "cols": {
    "lenName": 16,
    "lenType": 16,
    "lenVar": 40
   },
   "kernels_config": {
    "python": {
     "delete_cmd_postfix": "",
     "delete_cmd_prefix": "del ",
     "library": "var_list.py",
     "varRefreshCmd": "print(var_dic_list())"
    },
    "r": {
     "delete_cmd_postfix": ") ",
     "delete_cmd_prefix": "rm(",
     "library": "var_list.r",
     "varRefreshCmd": "cat(var_dic_list()) "
    }
   },
   "types_to_exclude": [
    "module",
    "function",
    "builtin_function_or_method",
    "instance",
    "_Feature"
   ],
   "window_display": false
  }
 },
 "nbformat": 4,
 "nbformat_minor": 1
}
